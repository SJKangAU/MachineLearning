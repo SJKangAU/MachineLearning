{
 "cells": [
  {
   "cell_type": "markdown",
   "metadata": {},
   "source": [
    "## Naive Bayes\n",
    "\n",
    "Student Name:\n",
    "\n",
    "Student ID:\n",
    " \n",
    "## General info\n",
    "\n",
    "\n",
    "<b>Materials</b>: See [Using Jupyter Notebook and Python page](https://canvas.lms.unimelb.edu.au/courses/126693/pages/python-and-jupyter-notebooks?module_item_id=3950453) on Canvas (under Modules> Coding Resources) for information on the basic setup required for this class, including an iPython notebook viewer.If your iPython notebook doesn't run on the marker's machine, you will lose marks. <b> You should use Python 3</b>.  \n",
    "\n",
    "\n",
    "<b>Evaluation</b>: Your iPython notebook should run end-to-end without any errors in a reasonable amount of time, and you must follow all instructions provided below, including specific implementation requirements and instructions for what needs to be printed (please avoid printing output we don't ask for). You should implement functions for the skeletons listed below. You may implement any number of additional (helper) functions. You should leave the output from running your code in the iPython notebook you submit, to assist with marking. The amount each section is worth is given in parenthesis after the instructions. \n",
    "\n",
    "You will be marked not only on the correctness of your methods, but also the quality and efficiency of your code: in particular, you should be careful to use Python built-in functions and operators when appropriate and pick descriptive variable names that adhere to <a href=\"https://www.python.org/dev/peps/pep-0008/\">Python style requirements</a>. If you think it might be unclear what you are doing, you should comment your code to help the marker make sense of it. We reserve the right to deduct up to 4 marks for unreadable or excessively inefficient code.\n",
    "\n",
    "7 of the marks available for this Project will be assigned to whether the five specified Python functions work. Any other implementation will not be directly assessed (except insofar as it is required to make these five functions work correctly).\n",
    "\n",
    "13 of the marks will be assigned to your responses to the questions, in terms of both accuracy and insightfulness. We will be looking for evidence that you have an implementation that allows you to explore the problem, but also that you have thought deeply about the data and the behaviour of the Naive Bayes classifier.\n"
   ]
  },
  {
   "cell_type": "markdown",
   "metadata": {},
   "source": [
    "## Part 1: Base code [7 marks]\n",
    "\n",
    "Instructions\n",
    "1. Do **not** shuffle the data set\n",
    "2. Treat the features as nominal and use them as provided (e.g., do **not** convert them to other feature types, such as numeric ones). Implement a Naive Bayes classifier with appropriate likelihood function for the data.\n",
    "3. You should implement the Naive Bayes classifier from scratch. Do **not** use existing implementations/learning algorithms. You must use epsilon smoothing strategy as discussed in the Naive Bayes lecture. \n",
    "4. Apart from the instructions in point 3, you may use libraries to help you with data reading, representation, maths or evaluation.\n",
    "5. Ensure that all and only required information is printed, as indicated in the final three code cells. Failure to adhere to print the required information will result in **[-1 mark]** per case. *(We don't mind details like you print a list or several numbers -- just make sure the information is displayed so that it's easily accessible)*\n",
    "6. Please place the jupyter notebook into the same folder as the input data.\n"
   ]
  },
  {
   "cell_type": "code",
   "execution_count": 1,
   "metadata": {},
   "outputs": [],
   "source": [
    "import pandas as pd\n",
    "import numpy as np\n",
    "from functools import reduce\n",
    "from tqdm import tqdm "
   ]
  },
  {
   "cell_type": "code",
   "execution_count": 2,
   "metadata": {},
   "outputs": [],
   "source": [
    "class NaiveBayesClassifier():\n",
    " \n",
    "    # constructor for any bayes obect\n",
    "    def __init__(self,features,target):\n",
    "        self.data = features # the dataset\n",
    "        self.target = target # the target class\n",
    "        self.target_labels = list(set(self.data[self.target])) # unique target labels\n",
    "        self.target_values = list(self.data[self.target]) # values of target columns\n",
    "        self.priori = {} # priopi probability\n",
    "        self.cp = {}\n",
    "        self.prediction = None \n",
    "\n",
    "    '''\n",
    "    calculation of the probability per class \n",
    "    '''\n",
    "    def calc_priori_probability(self): \n",
    "        for item in self.target_labels:\n",
    "            self.priori[item]  = round(self.target_values.count(item)/float(len(self.target_values)),2)\n",
    "        print(\"Priori Probability Values: \", self.priori)\n",
    "\n",
    "    '''\n",
    "    calculation of the individual probabilites \n",
    "    \n",
    "    '''\n",
    "    def individual_probabilites(self, attr, attr_type, x):\n",
    "        data_attr = list(self.data[attr])\n",
    "        class_data = list(self.data[self.target])\n",
    "        total = 0\n",
    "        for i in range(len(data_attr)):\n",
    "            if class_data[i] == x and data_attr[i] == attr_type:\n",
    "                total+=1\n",
    "        return round(total/float(class_data.count(x)),2)\n",
    "\n",
    "    '''\n",
    "    calculation of Likelihood of Evidence and multiple all individual probabilities with priori\n",
    "    '''\n",
    "    def calc_conditional_probabilities(self, prediction,columns):\n",
    "        for i in self.priori:\n",
    "            self.cp[i] = {}\n",
    "            for j in columns:\n",
    "                self.cp[i].update({ prediction[j]: self.individual_probabilites(j, prediction[j], i)})\n",
    "\n",
    "    def classification(self):\n",
    "        results = {}\n",
    "        for i in self.cp:\n",
    "            if i in self.cp and i in self.priori:\n",
    "                results[i] = reduce(lambda x, y: x*y, self.cp[i].values())*self.priori[i]\n",
    "                # Laplace smoothing \n",
    "                if results[i] == 0: \n",
    "                    results[i] = self.data.shape[0]\n",
    "        return max(results, key=results.get)"
   ]
  },
  {
   "cell_type": "code",
   "execution_count": 3,
   "metadata": {},
   "outputs": [],
   "source": [
    "# This function should open a csv file and read the data into a useable format [0.5 mark]\n",
    "def preprocess(filename):\n",
    "    # open file\n",
    "    df = pd.read_csv(filename)\n",
    "    \n",
    "    # set threshold for splitting training and test set\n",
    "    limit = int(df.shape[0]*0.7)\n",
    "    \n",
    "    # split training and test set\n",
    "    train_set = test_set = df[:limit]\n",
    "    test_set = df[limit:]\n",
    "    \n",
    "    # isolate target column\n",
    "    target = df.columns[-1]\n",
    "    \n",
    "    return df,train_set,test_set,target"
   ]
  },
  {
   "cell_type": "code",
   "execution_count": 4,
   "metadata": {},
   "outputs": [],
   "source": [
    "# This function should build a supervised NB model [3 marks]\n",
    "def train(train_set,target):\n",
    "    # create a class object\n",
    "    bayes_classifier = NaiveBayesClassifier(train_set,target) \n",
    "    # calculation of priori probability - train \n",
    "    bayes_classifier.calc_priori_probability()\n",
    "    # return updated object\n",
    "    return bayes_classifier"
   ]
  },
  {
   "cell_type": "code",
   "execution_count": 5,
   "metadata": {},
   "outputs": [],
   "source": [
    "# This function should predict the class for a set of instances, based on a trained model [1.5 marks]\n",
    "def predict(bayes_classifier,test_set,columns):\n",
    "    predictions = []\n",
    "    # for each feature in the test set\n",
    "    for i in tqdm(range(test_set.shape[0])):\n",
    "        bayes_classifier.prediction = test_set.iloc[i,:]\n",
    "        bayes_classifier.calc_conditional_probabilities(bayes_classifier.prediction,columns)\n",
    "        predictions.append(bayes_classifier.classification())\n",
    "    return predictions"
   ]
  },
  {
   "cell_type": "code",
   "execution_count": 6,
   "metadata": {},
   "outputs": [],
   "source": [
    "# This function should evaluate a set of predictions [1 mark]\n",
    "def evaluate(predictions,test_set):\n",
    "    correct = 0\n",
    "    for i in range(test_set.shape[0]):\n",
    "        if test_set.iloc[i,-1] == predictions[i]:\n",
    "            correct+=1\n",
    "    return correct / float(len(predictions)) * 100.0"
   ]
  },
  {
   "cell_type": "markdown",
   "metadata": {},
   "source": [
    "## Bank Marketing"
   ]
  },
  {
   "cell_type": "code",
   "execution_count": 21,
   "metadata": {},
   "outputs": [
    {
     "name": "stdout",
     "output_type": "stream",
     "text": [
      "Priori Propability Values:  {'yes': 0.12, 'no': 0.88}\n"
     ]
    },
    {
     "name": "stderr",
     "output_type": "stream",
     "text": [
      "100%|██████████████████████████████████████████████████████████████████████████████| 1357/1357 [00:15<00:00, 87.10it/s]"
     ]
    },
    {
     "name": "stdout",
     "output_type": "stream",
     "text": [
      "Overall Accuracy: 11.422254974207812\n",
      "Feature vectors of instances [0, 1, 2]:          ID         job  marital  education default housing loan   contact  \\\n",
      "0  CLIENT0  unemployed  married    primary      no      no   no  cellular   \n",
      "1  CLIENT1    services  married  secondary      no     yes  yes  cellular   \n",
      "2  CLIENT2  management   single   tertiary      no     yes   no  cellular   \n",
      "\n",
      "  month poutcome label  \n",
      "0   oct  unknown    no  \n",
      "1   may  failure    no  \n",
      "2   apr  failure    no  \n",
      "\n",
      "Number of instances (N):  4521\n",
      "Number of features (F):  10\n",
      "Number of labels (L):  2\n",
      "\n",
      "\n",
      "Predicted class probabilities for instance N-3:  {'yes': {'CLIENT4518': 0.0, 'technician': 0.17, 'married': 0.53, 'secondary': 0.48, 'no': 0.0, 'cellular': 0.81, 'aug': 0.16, 'unknown': 0.65}, 'no': {'CLIENT4518': 0.0, 'technician': 0.17, 'married': 0.63, 'secondary': 0.51, 'no': 1.0, 'cellular': 0.63, 'aug': 0.14, 'unknown': 0.85}}\n",
      "Predicted class for instance N-3:  yes\n",
      "\n",
      "Predicted class probabilities for instance N-2:  {'yes': {'CLIENT4519': 0.0, 'blue-collar': 0.12, 'married': 0.53, 'secondary': 0.48, 'no': 0.0, 'cellular': 0.81, 'feb': 0.07, 'other': 0.06}, 'no': {'CLIENT4519': 0.0, 'blue-collar': 0.22, 'married': 0.63, 'secondary': 0.51, 'no': 1.0, 'cellular': 0.63, 'feb': 0.05, 'other': 0.04}}\n",
      "Predicted class for instance N-2:  yes\n",
      "\n",
      "Predicted class probabilities for instance N-1:  {'yes': {'CLIENT4520': 0.0, 'entrepreneur': 0.03, 'single': 0.33, 'tertiary': 0.39, 'no': 0.0, 'yes': 0.09, 'cellular': 0.81, 'apr': 0.09, 'other': 0.06}, 'no': {'CLIENT4520': 0.0, 'entrepreneur': 0.04, 'single': 0.26, 'tertiary': 0.29, 'no': 1.0, 'yes': 0.16, 'cellular': 0.63, 'apr': 0.06, 'other': 0.04}}\n",
      "Predicted class for instance N-1:  yes\n"
     ]
    },
    {
     "name": "stderr",
     "output_type": "stream",
     "text": [
      "\n"
     ]
    }
   ],
   "source": [
    "# This cell should act as your \"main\" function where you call the above functions \n",
    "# on the full Bank Marketing data set, and print the evaluation score. [0.33 marks]\n",
    "\n",
    "\n",
    "# First, read in the data and apply your NB model to the Bank Marketing data\n",
    "\n",
    "df,train_set,test_set,target = preprocess('bank-marketing.csv')\n",
    "columns = df.columns\n",
    "bayes_classifier = train(train_set,target)\n",
    "predictions = predict(bayes_classifier,test_set,columns)\n",
    "\n",
    "\n",
    "# Second, print the full evaluation results from the evaluate() function\n",
    "# predict(bc,train_set)\n",
    "\n",
    "print(\"Overall Accuracy:\",evaluate(predictions,test_set))\n",
    "\n",
    "\n",
    "# Third, print data statistics and model predictions, as instructed below \n",
    "# N is the total number of instances, F the total number of features, L the total number of labels\n",
    "# The \"class probabilities\" may be unnormalized\n",
    "\n",
    "\n",
    "print(\"Feature vectors of instances [0, 1, 2]: \", df.iloc[:3,:])\n",
    "\n",
    "print(\"\\nNumber of instances (N): \", df.shape[0])\n",
    "print(\"Number of features (F): \", len(columns) - 1)\n",
    "print(\"Number of labels (L): \", len(bayes_classifier.target_labels))\n",
    "\n",
    "pr3 = test_set.iloc[test_set.shape[0]-3,:]\n",
    "pr2 = test_set.iloc[test_set.shape[0]-2,:]\n",
    "pr1 = test_set.iloc[test_set.shape[0]-1,:]\n",
    "\n",
    "bayes_classifier.calc_conditional_probabilities(pr3,columns)\n",
    "print(\"\\n\\nPredicted class probabilities for instance N-3: \", bayes_classifier.cp)\n",
    "print(\"Predicted class for instance N-3: \", predictions[test_set.shape[0]-3])\n",
    "\n",
    "bayes_classifier.calc_conditional_probabilities(pr2,columns)\n",
    "print(\"\\nPredicted class probabilities for instance N-2: \", bayes_classifier.cp)\n",
    "print(\"Predicted class for instance N-2: \", predictions[test_set.shape[0]-2])\n",
    "\n",
    "bayes_classifier.calc_conditional_probabilities(pr1,columns)\n",
    "print(\"\\nPredicted class probabilities for instance N-1: \", bayes_classifier.cp )\n",
    "print(\"Predicted class for instance N-1: \", predictions[test_set.shape[0]-1])\n"
   ]
  },
  {
   "cell_type": "markdown",
   "metadata": {},
   "source": [
    "## Student"
   ]
  },
  {
   "cell_type": "code",
   "execution_count": 17,
   "metadata": {},
   "outputs": [
    {
     "name": "stdout",
     "output_type": "stream",
     "text": [
      "Priori Propability Values:  {'A+': 0.02, 'D': 0.3, 'B': 0.2, 'F': 0.09, 'C': 0.28, 'A': 0.11}\n"
     ]
    },
    {
     "name": "stderr",
     "output_type": "stream",
     "text": [
      "100%|████████████████████████████████████████████████████████████████████████████████| 195/195 [00:02<00:00, 67.35it/s]"
     ]
    },
    {
     "name": "stdout",
     "output_type": "stream",
     "text": [
      "Overall Accuracy: 3.5897435897435894\n",
      "Feature vectors of instances [0, 1, 2]:           ID school sex address famsize Pstatus  Medu  Fedu     Mjob     Fjob  \\\n",
      "0  STUDENT0     GP   F       U     GT3       A  high  high  at_home  teacher   \n",
      "1  STUDENT1     GP   F       U     GT3       T   low   low  at_home    other   \n",
      "2  STUDENT2     GP   F       U     LE3       T   low   low  at_home    other   \n",
      "\n",
      "   ... internet romantic     famrel  freetime     goout      Dalc      Walc  \\\n",
      "0  ...       no       no       good  mediocre      good  very_bad  very_bad   \n",
      "1  ...      yes       no  excellent  mediocre  mediocre  very_bad  very_bad   \n",
      "2  ...      yes       no       good  mediocre       bad       bad  mediocre   \n",
      "\n",
      "     health      absences label  \n",
      "0  mediocre   four_to_six     D  \n",
      "1  mediocre  one_to_three     D  \n",
      "2  mediocre   four_to_six     C  \n",
      "\n",
      "[3 rows x 31 columns]\n",
      "\n",
      "Number of instances (N):  649\n",
      "Number of features (F):  30\n",
      "Number of labels (L):  6\n",
      "\n",
      "\n",
      "Predicted class probabilities for instance N-3:  {'A+': {'STUDENT646': 0.0, 'MS': 0.0, 'F': 0.0, 'U': 0.7, 'GT3': 0.6, 'T': 0.9, 'low': 0.2, 'other': 0.5, 'course': 0.1, 'mother': 0.8, 'medium': 0.4, 'none': 1.0, 'no': 0.7, 'yes': 1.0, 'very_bad': 0.5, 'excellent': 0.2, 'four_to_six': 0.0}, 'D': {'STUDENT646': 0.0, 'MS': 0.09, 'F': 0.0, 'U': 0.72, 'GT3': 0.66, 'T': 0.86, 'low': 0.24, 'other': 0.65, 'course': 0.44, 'mother': 0.7, 'medium': 0.5, 'none': 0.79, 'no': 0.65, 'yes': 0.87, 'very_bad': 0.39, 'excellent': 0.49, 'four_to_six': 0.3}, 'B': {'STUDENT646': 0.0, 'MS': 0.03, 'F': 0.0, 'U': 0.84, 'GT3': 0.72, 'T': 0.87, 'low': 0.19, 'other': 0.61, 'course': 0.38, 'mother': 0.7, 'medium': 0.5, 'none': 0.99, 'no': 0.67, 'yes': 1.0, 'very_bad': 0.41, 'excellent': 0.33, 'four_to_six': 0.26}, 'F': {'STUDENT646': 0.0, 'MS': 0.22, 'F': 1.0, 'U': 0.66, 'GT3': 0.76, 'T': 0.9, 'low': 0.46, 'other': 0.46, 'course': 0.49, 'mother': 0.73, 'medium': 0.34, 'none': 0.54, 'no': 0.56, 'yes': 0.59, 'very_bad': 0.27, 'excellent': 0.46, 'four_to_six': 0.17}, 'C': {'STUDENT646': 0.0, 'MS': 0.03, 'F': 0.0, 'U': 0.81, 'GT3': 0.75, 'T': 0.89, 'low': 0.2, 'other': 0.6, 'course': 0.38, 'mother': 0.72, 'medium': 0.5, 'none': 0.98, 'no': 0.69, 'yes': 0.98, 'very_bad': 0.41, 'excellent': 0.35, 'four_to_six': 0.24}, 'A': {'STUDENT646': 0.0, 'MS': 0.06, 'F': 0.0, 'U': 0.83, 'GT3': 0.75, 'T': 0.85, 'low': 0.13, 'other': 0.44, 'course': 0.38, 'mother': 0.77, 'medium': 0.54, 'none': 0.98, 'no': 0.65, 'yes': 1.0, 'very_bad': 0.42, 'excellent': 0.35, 'four_to_six': 0.21}}\n",
      "Predicted class for instance N-3:  A+\n",
      "\n",
      "Predicted class probabilities for instance N-2:  {'A+': {'STUDENT647': 0.0, 'MS': 0.0, 'M': 0.4, 'U': 0.7, 'LE3': 0.4, 'T': 0.9, 'mid': 0.4, 'low': 0.1, 'services': 0.2, 'course': 0.1, 'mother': 0.8, 'medium': 0.3, 'none': 1.0, 'no': 0.7, 'yes': 0.7, 'bad': 0.1, 'good': 0.0, 'excellent': 0.0, 'mediocre': 0.0, 'four_to_six': 0.0, 'D': 0.0}, 'D': {'STUDENT647': 0.0, 'MS': 0.09, 'M': 0.5, 'U': 0.72, 'LE3': 0.34, 'T': 0.86, 'mid': 0.58, 'low': 0.36, 'services': 0.24, 'course': 0.44, 'mother': 0.7, 'medium': 0.31, 'none': 0.79, 'no': 0.65, 'yes': 0.75, 'bad': 0.07, 'good': 0.21, 'excellent': 0.16, 'mediocre': 0.08, 'four_to_six': 0.3, 'D': 1.0}, 'B': {'STUDENT647': 0.0, 'MS': 0.03, 'M': 0.39, 'U': 0.84, 'LE3': 0.28, 'T': 0.87, 'mid': 0.47, 'low': 0.19, 'services': 0.19, 'course': 0.38, 'mother': 0.7, 'medium': 0.27, 'none': 0.99, 'no': 0.67, 'yes': 0.91, 'bad': 0.13, 'good': 0.08, 'excellent': 0.16, 'mediocre': 0.02, 'four_to_six': 0.26, 'D': 0.0}, 'F': {'STUDENT647': 0.0, 'MS': 0.22, 'M': 0.68, 'U': 0.66, 'LE3': 0.24, 'T': 0.9, 'mid': 0.54, 'low': 0.56, 'services': 0.44, 'course': 0.49, 'mother': 0.73, 'medium': 0.29, 'none': 0.54, 'no': 0.56, 'yes': 0.76, 'bad': 0.12, 'good': 0.22, 'excellent': 0.39, 'mediocre': 0.1, 'four_to_six': 0.17, 'D': 0.0}, 'C': {'STUDENT647': 0.0, 'MS': 0.03, 'M': 0.37, 'U': 0.81, 'LE3': 0.25, 'T': 0.89, 'mid': 0.53, 'low': 0.26, 'services': 0.26, 'course': 0.38, 'mother': 0.72, 'medium': 0.27, 'none': 0.98, 'no': 0.69, 'yes': 0.83, 'bad': 0.13, 'good': 0.1, 'excellent': 0.1, 'mediocre': 0.03, 'four_to_six': 0.24, 'D': 0.0}, 'A': {'STUDENT647': 0.0, 'MS': 0.06, 'M': 0.33, 'U': 0.83, 'LE3': 0.25, 'T': 0.85, 'mid': 0.5, 'low': 0.17, 'services': 0.33, 'course': 0.38, 'mother': 0.77, 'medium': 0.19, 'none': 0.98, 'no': 0.65, 'yes': 0.9, 'bad': 0.15, 'good': 0.06, 'excellent': 0.1, 'mediocre': 0.04, 'four_to_six': 0.21, 'D': 0.0}}\n",
      "Predicted class for instance N-2:  A+\n",
      "\n",
      "Predicted class probabilities for instance N-1:  {'A+': {'STUDENT648': 0.0, 'MS': 0.0, 'M': 0.4, 'R': 0.3, 'LE3': 0.4, 'T': 0.9, 'mid': 0.7, 'services': 0.1, 'other': 0.5, 'course': 0.1, 'mother': 0.8, 'high': 0.0, 'low': 0.1, 'none': 1.0, 'no': 0.7, 'yes': 0.7, 'good': 0.0, 'very_bad': 0.0, 'mediocre': 0.0, 'excellent': 0.2, 'four_to_six': 0.0, 'D': 0.0}, 'D': {'STUDENT648': 0.0, 'MS': 0.09, 'M': 0.5, 'R': 0.28, 'LE3': 0.34, 'T': 0.86, 'mid': 0.59, 'services': 0.19, 'other': 0.65, 'course': 0.44, 'mother': 0.7, 'high': 0.08, 'low': 0.36, 'none': 0.79, 'no': 0.65, 'yes': 0.75, 'good': 0.21, 'very_bad': 0.07, 'mediocre': 0.08, 'excellent': 0.49, 'four_to_six': 0.3, 'D': 1.0}, 'B': {'STUDENT648': 0.0, 'MS': 0.03, 'M': 0.39, 'R': 0.16, 'LE3': 0.28, 'T': 0.87, 'mid': 0.56, 'services': 0.26, 'other': 0.61, 'course': 0.38, 'mother': 0.7, 'high': 0.03, 'low': 0.19, 'none': 0.99, 'no': 0.67, 'yes': 0.91, 'good': 0.08, 'very_bad': 0.11, 'mediocre': 0.02, 'excellent': 0.33, 'four_to_six': 0.26, 'D': 0.0}, 'F': {'STUDENT648': 0.0, 'MS': 0.22, 'M': 0.68, 'R': 0.34, 'LE3': 0.24, 'T': 0.9, 'mid': 0.37, 'services': 0.24, 'other': 0.46, 'course': 0.49, 'mother': 0.73, 'high': 0.07, 'low': 0.56, 'none': 0.54, 'no': 0.56, 'yes': 0.76, 'good': 0.22, 'very_bad': 0.05, 'mediocre': 0.1, 'excellent': 0.46, 'four_to_six': 0.17, 'D': 0.0}, 'C': {'STUDENT648': 0.0, 'MS': 0.03, 'M': 0.37, 'R': 0.19, 'LE3': 0.25, 'T': 0.89, 'mid': 0.53, 'services': 0.24, 'other': 0.6, 'course': 0.38, 'mother': 0.72, 'high': 0.04, 'low': 0.26, 'none': 0.98, 'no': 0.69, 'yes': 0.83, 'good': 0.1, 'very_bad': 0.06, 'mediocre': 0.03, 'excellent': 0.35, 'four_to_six': 0.24, 'D': 0.0}, 'A': {'STUDENT648': 0.0, 'MS': 0.06, 'M': 0.33, 'R': 0.17, 'LE3': 0.25, 'T': 0.85, 'mid': 0.48, 'services': 0.27, 'other': 0.44, 'course': 0.38, 'mother': 0.77, 'high': 0.04, 'low': 0.17, 'none': 0.98, 'no': 0.65, 'yes': 0.9, 'good': 0.06, 'very_bad': 0.0, 'mediocre': 0.04, 'excellent': 0.35, 'four_to_six': 0.21, 'D': 0.0}}\n",
      "Predicted class for instance N-1:  A+\n"
     ]
    },
    {
     "name": "stderr",
     "output_type": "stream",
     "text": [
      "\n"
     ]
    }
   ],
   "source": [
    "# This cell should act as your \"main\" function where you call the above functions \n",
    "# on the full Bank Marketing data set, and print the evaluation score. [0.33 marks]\n",
    "\n",
    "\n",
    "# First, read in the data and apply your NB model to the Bank Marketing data\n",
    "\n",
    "df,train_set,test_set,target = preprocess('student.csv')\n",
    "columns = df.columns\n",
    "bayes_classifier = train(train_set,target)\n",
    "predictions = predict(bayes_classifier,test_set,columns)\n",
    "\n",
    "\n",
    "# Second, print the full evaluation results from the evaluate() function\n",
    "# predict(bc,train_set)\n",
    "\n",
    "print(\"Overall Accuracy:\",evaluate(predictions,test_set))\n",
    "\n",
    "\n",
    "# Third, print data statistics and model predictions, as instructed below \n",
    "# N is the total number of instances, F the total number of features, L the total number of labels\n",
    "# The \"class probabilities\" may be unnormalized\n",
    "\n",
    "\n",
    "print(\"Feature vectors of instances [0, 1, 2]: \", df.iloc[:3,:])\n",
    "\n",
    "print(\"\\nNumber of instances (N): \", df.shape[0])\n",
    "print(\"Number of features (F): \", len(columns) - 1)\n",
    "print(\"Number of labels (L): \", len(bayes_classifier.target_labels))\n",
    "\n",
    "pr3 = test_set.iloc[test_set.shape[0]-3,:]\n",
    "pr2 = test_set.iloc[test_set.shape[0]-2,:]\n",
    "pr1 = test_set.iloc[test_set.shape[0]-1,:]\n",
    "\n",
    "bayes_classifier.calc_conditional_probabilities(pr3,columns)\n",
    "print(\"\\n\\nPredicted class probabilities for instance N-3: \", bayes_classifier.cp)\n",
    "print(\"Predicted class for instance N-3: \", predictions[test_set.shape[0]-3])\n",
    "\n",
    "bayes_classifier.calc_conditional_probabilities(pr2,columns)\n",
    "print(\"\\nPredicted class probabilities for instance N-2: \", bayes_classifier.cp)\n",
    "print(\"Predicted class for instance N-2: \", predictions[test_set.shape[0]-2])\n",
    "\n",
    "bayes_classifier.calc_conditional_probabilities(pr1,columns)\n",
    "print(\"\\nPredicted class probabilities for instance N-1: \", bayes_classifier.cp )\n",
    "print(\"Predicted class for instance N-1: \", predictions[test_set.shape[0]-1])\n"
   ]
  },
  {
   "cell_type": "markdown",
   "metadata": {},
   "source": [
    "## Obesity"
   ]
  },
  {
   "cell_type": "code",
   "execution_count": 14,
   "metadata": {},
   "outputs": [
    {
     "name": "stdout",
     "output_type": "stream",
     "text": [
      "Priori Propability Values:  {'obese': 0.46, 'not-obese': 0.54}\n"
     ]
    },
    {
     "name": "stderr",
     "output_type": "stream",
     "text": [
      "100%|███████████████████████████████████████████████████████████████████████████████| 634/634 [00:04<00:00, 132.21it/s]"
     ]
    },
    {
     "name": "stdout",
     "output_type": "stream",
     "text": [
      "Overall Accuracy: 45.268138801261834\n",
      "Feature vectors of instances [0, 1, 2]:           ID Gender family_history_with_overweight FAVC  FCVC   NCP       CAEC  \\\n",
      "0  PATIENT0   Male                            yes  yes   mid  high  Sometimes   \n",
      "1  PATIENT1   Male                            yes  yes   mid  high  Sometimes   \n",
      "2  PATIENT2   Male                            yes  yes  high  high  Sometimes   \n",
      "\n",
      "  SMOKE  CH2O SCC           FAF       TUE        CALC                 MTRANS  \\\n",
      "0   yes   mid  no  low-activity  mediocre  Frequently  Public_Transportation   \n",
      "1    no  high  no  low-activity      good   Sometimes  Public_Transportation   \n",
      "2    no  high  no  low-activity      good   Sometimes  Public_Transportation   \n",
      "\n",
      "       label  \n",
      "0  not-obese  \n",
      "1  not-obese  \n",
      "2      obese  \n",
      "\n",
      "Number of instances (N):  2111\n",
      "Number of features (F):  14\n",
      "Number of labels (L):  2\n",
      "\n",
      "\n",
      "Predicted class probabilities for instance N-3:  {'obese': {'PATIENT2108': 0.0, 'Female': 0.52, 'no': 0.98, 'yes': 0.0, 'high': 0.82, 'Sometimes': 0.75, 'low': 0.21, 'low-activity': 0.36, 'good': 0.47, 'Public_Transportation': 0.8, 'not-obese': 0.0}, 'not-obese': {'PATIENT2108': 0.0, 'Female': 0.49, 'no': 0.99, 'yes': 0.08, 'high': 0.61, 'Sometimes': 0.59, 'low': 0.23, 'low-activity': 0.38, 'good': 0.45, 'Public_Transportation': 0.71, 'not-obese': 1.0}}\n",
      "Predicted class for instance N-3:  obese\n",
      "\n",
      "Predicted class probabilities for instance N-2:  {'obese': {'PATIENT2109': 0.0, 'Female': 0.52, 'yes': 0.99, 'no': 0.23, 'mid': 0.48, 'very_high': 0.01, 'Sometimes': 0.99, 'low-activity': 0.36, 'mediocre': 0.46, 'Public_Transportation': 0.8, 'not-obese': 0.0}, 'not-obese': {'PATIENT2109': 0.0, 'Female': 0.49, 'yes': 0.66, 'no': 0.36, 'mid': 0.56, 'very_high': 0.12, 'Sometimes': 0.72, 'low-activity': 0.38, 'mediocre': 0.41, 'Public_Transportation': 0.71, 'not-obese': 1.0}}\n",
      "Predicted class for instance N-2:  obese\n",
      "\n",
      "Predicted class probabilities for instance N-1:  {'obese': {'PATIENT2110': 0.0, 'Female': 0.52, 'yes': 0.98, 'high': 0.82, 'Sometimes': 0.75, 'no': 1.0, 'mid': 0.48, 'sedentary': 0.42, 'good': 0.47, 'Public_Transportation': 0.8, 'obese': 1.0}, 'not-obese': {'PATIENT2110': 0.0, 'Female': 0.49, 'yes': 0.8, 'high': 0.61, 'Sometimes': 0.59, 'no': 0.92, 'mid': 0.56, 'sedentary': 0.29, 'good': 0.45, 'Public_Transportation': 0.71, 'obese': 0.0}}\n",
      "Predicted class for instance N-1:  obese\n"
     ]
    },
    {
     "name": "stderr",
     "output_type": "stream",
     "text": [
      "\n"
     ]
    }
   ],
   "source": [
    "# This cell should act as your \"main\" function where you call the above functions \n",
    "# on the full Bank Marketing data set, and print the evaluation score. [0.33 marks]\n",
    "\n",
    "\n",
    "# First, read in the data and apply your NB model to the Bank Marketing data\n",
    "\n",
    "df,train_set,test_set,target = preprocess('obesity.csv')\n",
    "columns = df.columns\n",
    "bayes_classifier = train(train_set,target)\n",
    "predictions = predict(bayes_classifier,test_set,columns)\n",
    "\n",
    "\n",
    "# Second, print the full evaluation results from the evaluate() function\n",
    "# predict(bc,train_set)\n",
    "\n",
    "print(\"Overall Accuracy:\",evaluate(predictions,test_set))\n",
    "\n",
    "\n",
    "# Third, print data statistics and model predictions, as instructed below \n",
    "# N is the total number of instances, F the total number of features, L the total number of labels\n",
    "# The \"class probabilities\" may be unnormalized\n",
    "\n",
    "\n",
    "print(\"Feature vectors of instances [0, 1, 2]: \", df.iloc[:3,:])\n",
    "\n",
    "print(\"\\nNumber of instances (N): \", df.shape[0])\n",
    "print(\"Number of features (F): \", len(columns) - 1)\n",
    "print(\"Number of labels (L): \", len(bayes_classifier.target_labels))\n",
    "\n",
    "pr3 = test_set.iloc[test_set.shape[0]-3,:]\n",
    "pr2 = test_set.iloc[test_set.shape[0]-2,:]\n",
    "pr1 = test_set.iloc[test_set.shape[0]-1,:]\n",
    "\n",
    "bayes_classifier.calc_conditional_probabilities(pr3,columns)\n",
    "print(\"\\n\\nPredicted class probabilities for instance N-3: \", bayes_classifier.cp)\n",
    "print(\"Predicted class for instance N-3: \", predictions[test_set.shape[0]-3])\n",
    "\n",
    "bayes_classifier.calc_conditional_probabilities(pr2,columns)\n",
    "print(\"\\nPredicted class probabilities for instance N-2: \", bayes_classifier.cp)\n",
    "print(\"Predicted class for instance N-2: \", predictions[test_set.shape[0]-2])\n",
    "\n",
    "bayes_classifier.calc_conditional_probabilities(pr1,columns)\n",
    "print(\"\\nPredicted class probabilities for instance N-1: \", bayes_classifier.cp )\n",
    "print(\"Predicted class for instance N-1: \", predictions[test_set.shape[0]-1])\n"
   ]
  },
  {
   "cell_type": "markdown",
   "metadata": {},
   "source": [
    "#### Part 2: Conceptual questions [13 marks]"
   ]
  },
  {
   "cell_type": "markdown",
   "metadata": {},
   "source": [
    "## Question 1: One-R Baseline [3 marks]"
   ]
  },
  {
   "cell_type": "code",
   "execution_count": null,
   "metadata": {},
   "outputs": [],
   "source": [
    "# Write additional code here, if necessary (you may insert additional code cells)\n",
    "# You should implement the One-R classifier from scratch. Do not use existing implementations/learning algorithms.\n",
    "# Print the feature name and its corresponding error rate that One-R selects, in addition to any evaluation scores.\n",
    "\n"
   ]
  },
  {
   "cell_type": "markdown",
   "metadata": {},
   "source": [
    "Provide your text answer to **Question 1.b** of 100-150 words in this cell.\n",
    "\n"
   ]
  },
  {
   "cell_type": "markdown",
   "metadata": {},
   "source": [
    "## Question 2: Evaluation strategy [3 marks] \n"
   ]
  },
  {
   "cell_type": "code",
   "execution_count": null,
   "metadata": {},
   "outputs": [],
   "source": [
    "# Write additional code here, if necessary (you may insert additional code cells)\n",
    "\n"
   ]
  },
  {
   "cell_type": "markdown",
   "metadata": {},
   "source": [
    "Provide your text answer to **Question 2** 100-150 words in this cell.\n",
    "\n"
   ]
  },
  {
   "cell_type": "markdown",
   "metadata": {},
   "source": [
    "## Question 3: Feature Selection and Naive Bayes Assumptions [3 marks]"
   ]
  },
  {
   "cell_type": "code",
   "execution_count": 10,
   "metadata": {},
   "outputs": [
    {
     "data": {
      "text/html": [
       "<div>\n",
       "<style scoped>\n",
       "    .dataframe tbody tr th:only-of-type {\n",
       "        vertical-align: middle;\n",
       "    }\n",
       "\n",
       "    .dataframe tbody tr th {\n",
       "        vertical-align: top;\n",
       "    }\n",
       "\n",
       "    .dataframe thead th {\n",
       "        text-align: right;\n",
       "    }\n",
       "</style>\n",
       "<table border=\"1\" class=\"dataframe\">\n",
       "  <thead>\n",
       "    <tr style=\"text-align: right;\">\n",
       "      <th></th>\n",
       "      <th>ID</th>\n",
       "      <th>Gender</th>\n",
       "      <th>family_history_with_overweight</th>\n",
       "      <th>FAVC</th>\n",
       "      <th>FCVC</th>\n",
       "      <th>NCP</th>\n",
       "      <th>CAEC</th>\n",
       "      <th>SMOKE</th>\n",
       "      <th>CH2O</th>\n",
       "      <th>SCC</th>\n",
       "      <th>FAF</th>\n",
       "      <th>TUE</th>\n",
       "      <th>CALC</th>\n",
       "      <th>MTRANS</th>\n",
       "      <th>label</th>\n",
       "    </tr>\n",
       "  </thead>\n",
       "  <tbody>\n",
       "    <tr>\n",
       "      <th>0</th>\n",
       "      <td>PATIENT0</td>\n",
       "      <td>Male</td>\n",
       "      <td>yes</td>\n",
       "      <td>yes</td>\n",
       "      <td>mid</td>\n",
       "      <td>high</td>\n",
       "      <td>Sometimes</td>\n",
       "      <td>yes</td>\n",
       "      <td>mid</td>\n",
       "      <td>no</td>\n",
       "      <td>low-activity</td>\n",
       "      <td>mediocre</td>\n",
       "      <td>Frequently</td>\n",
       "      <td>Public_Transportation</td>\n",
       "      <td>not-obese</td>\n",
       "    </tr>\n",
       "    <tr>\n",
       "      <th>1</th>\n",
       "      <td>PATIENT1</td>\n",
       "      <td>Male</td>\n",
       "      <td>yes</td>\n",
       "      <td>yes</td>\n",
       "      <td>mid</td>\n",
       "      <td>high</td>\n",
       "      <td>Sometimes</td>\n",
       "      <td>no</td>\n",
       "      <td>high</td>\n",
       "      <td>no</td>\n",
       "      <td>low-activity</td>\n",
       "      <td>good</td>\n",
       "      <td>Sometimes</td>\n",
       "      <td>Public_Transportation</td>\n",
       "      <td>not-obese</td>\n",
       "    </tr>\n",
       "    <tr>\n",
       "      <th>2</th>\n",
       "      <td>PATIENT2</td>\n",
       "      <td>Male</td>\n",
       "      <td>yes</td>\n",
       "      <td>yes</td>\n",
       "      <td>high</td>\n",
       "      <td>high</td>\n",
       "      <td>Sometimes</td>\n",
       "      <td>no</td>\n",
       "      <td>high</td>\n",
       "      <td>no</td>\n",
       "      <td>low-activity</td>\n",
       "      <td>good</td>\n",
       "      <td>Sometimes</td>\n",
       "      <td>Public_Transportation</td>\n",
       "      <td>obese</td>\n",
       "    </tr>\n",
       "    <tr>\n",
       "      <th>3</th>\n",
       "      <td>PATIENT3</td>\n",
       "      <td>Female</td>\n",
       "      <td>no</td>\n",
       "      <td>yes</td>\n",
       "      <td>high</td>\n",
       "      <td>high</td>\n",
       "      <td>Frequently</td>\n",
       "      <td>no</td>\n",
       "      <td>low</td>\n",
       "      <td>no</td>\n",
       "      <td>low-activity</td>\n",
       "      <td>good</td>\n",
       "      <td>Sometimes</td>\n",
       "      <td>Public_Transportation</td>\n",
       "      <td>not-obese</td>\n",
       "    </tr>\n",
       "    <tr>\n",
       "      <th>4</th>\n",
       "      <td>PATIENT4</td>\n",
       "      <td>Female</td>\n",
       "      <td>yes</td>\n",
       "      <td>no</td>\n",
       "      <td>high</td>\n",
       "      <td>high</td>\n",
       "      <td>Sometimes</td>\n",
       "      <td>no</td>\n",
       "      <td>low</td>\n",
       "      <td>no</td>\n",
       "      <td>mid-activity</td>\n",
       "      <td>good</td>\n",
       "      <td>Sometimes</td>\n",
       "      <td>Automobile</td>\n",
       "      <td>not-obese</td>\n",
       "    </tr>\n",
       "    <tr>\n",
       "      <th>...</th>\n",
       "      <td>...</td>\n",
       "      <td>...</td>\n",
       "      <td>...</td>\n",
       "      <td>...</td>\n",
       "      <td>...</td>\n",
       "      <td>...</td>\n",
       "      <td>...</td>\n",
       "      <td>...</td>\n",
       "      <td>...</td>\n",
       "      <td>...</td>\n",
       "      <td>...</td>\n",
       "      <td>...</td>\n",
       "      <td>...</td>\n",
       "      <td>...</td>\n",
       "      <td>...</td>\n",
       "    </tr>\n",
       "    <tr>\n",
       "      <th>2106</th>\n",
       "      <td>PATIENT2106</td>\n",
       "      <td>Male</td>\n",
       "      <td>yes</td>\n",
       "      <td>yes</td>\n",
       "      <td>mid</td>\n",
       "      <td>low</td>\n",
       "      <td>Always</td>\n",
       "      <td>no</td>\n",
       "      <td>mid</td>\n",
       "      <td>no</td>\n",
       "      <td>low-activity</td>\n",
       "      <td>bad</td>\n",
       "      <td>Frequently</td>\n",
       "      <td>Automobile</td>\n",
       "      <td>obese</td>\n",
       "    </tr>\n",
       "    <tr>\n",
       "      <th>2107</th>\n",
       "      <td>PATIENT2107</td>\n",
       "      <td>Male</td>\n",
       "      <td>yes</td>\n",
       "      <td>yes</td>\n",
       "      <td>mid</td>\n",
       "      <td>high</td>\n",
       "      <td>Sometimes</td>\n",
       "      <td>no</td>\n",
       "      <td>low</td>\n",
       "      <td>no</td>\n",
       "      <td>sedentary</td>\n",
       "      <td>mediocre</td>\n",
       "      <td>no</td>\n",
       "      <td>Automobile</td>\n",
       "      <td>obese</td>\n",
       "    </tr>\n",
       "    <tr>\n",
       "      <th>2108</th>\n",
       "      <td>PATIENT2108</td>\n",
       "      <td>Female</td>\n",
       "      <td>no</td>\n",
       "      <td>yes</td>\n",
       "      <td>high</td>\n",
       "      <td>high</td>\n",
       "      <td>Sometimes</td>\n",
       "      <td>no</td>\n",
       "      <td>low</td>\n",
       "      <td>yes</td>\n",
       "      <td>low-activity</td>\n",
       "      <td>good</td>\n",
       "      <td>Sometimes</td>\n",
       "      <td>Public_Transportation</td>\n",
       "      <td>not-obese</td>\n",
       "    </tr>\n",
       "    <tr>\n",
       "      <th>2109</th>\n",
       "      <td>PATIENT2109</td>\n",
       "      <td>Female</td>\n",
       "      <td>yes</td>\n",
       "      <td>no</td>\n",
       "      <td>mid</td>\n",
       "      <td>very_high</td>\n",
       "      <td>Sometimes</td>\n",
       "      <td>no</td>\n",
       "      <td>mid</td>\n",
       "      <td>no</td>\n",
       "      <td>low-activity</td>\n",
       "      <td>mediocre</td>\n",
       "      <td>no</td>\n",
       "      <td>Public_Transportation</td>\n",
       "      <td>not-obese</td>\n",
       "    </tr>\n",
       "    <tr>\n",
       "      <th>2110</th>\n",
       "      <td>PATIENT2110</td>\n",
       "      <td>Female</td>\n",
       "      <td>yes</td>\n",
       "      <td>yes</td>\n",
       "      <td>high</td>\n",
       "      <td>high</td>\n",
       "      <td>Sometimes</td>\n",
       "      <td>no</td>\n",
       "      <td>mid</td>\n",
       "      <td>no</td>\n",
       "      <td>sedentary</td>\n",
       "      <td>good</td>\n",
       "      <td>Sometimes</td>\n",
       "      <td>Public_Transportation</td>\n",
       "      <td>obese</td>\n",
       "    </tr>\n",
       "  </tbody>\n",
       "</table>\n",
       "<p>2111 rows × 15 columns</p>\n",
       "</div>"
      ],
      "text/plain": [
       "               ID  Gender family_history_with_overweight FAVC  FCVC  \\\n",
       "0        PATIENT0    Male                            yes  yes   mid   \n",
       "1        PATIENT1    Male                            yes  yes   mid   \n",
       "2        PATIENT2    Male                            yes  yes  high   \n",
       "3        PATIENT3  Female                             no  yes  high   \n",
       "4        PATIENT4  Female                            yes   no  high   \n",
       "...           ...     ...                            ...  ...   ...   \n",
       "2106  PATIENT2106    Male                            yes  yes   mid   \n",
       "2107  PATIENT2107    Male                            yes  yes   mid   \n",
       "2108  PATIENT2108  Female                             no  yes  high   \n",
       "2109  PATIENT2109  Female                            yes   no   mid   \n",
       "2110  PATIENT2110  Female                            yes  yes  high   \n",
       "\n",
       "            NCP        CAEC SMOKE  CH2O  SCC           FAF       TUE  \\\n",
       "0          high   Sometimes   yes   mid   no  low-activity  mediocre   \n",
       "1          high   Sometimes    no  high   no  low-activity      good   \n",
       "2          high   Sometimes    no  high   no  low-activity      good   \n",
       "3          high  Frequently    no   low   no  low-activity      good   \n",
       "4          high   Sometimes    no   low   no  mid-activity      good   \n",
       "...         ...         ...   ...   ...  ...           ...       ...   \n",
       "2106        low      Always    no   mid   no  low-activity       bad   \n",
       "2107       high   Sometimes    no   low   no     sedentary  mediocre   \n",
       "2108       high   Sometimes    no   low  yes  low-activity      good   \n",
       "2109  very_high   Sometimes    no   mid   no  low-activity  mediocre   \n",
       "2110       high   Sometimes    no   mid   no     sedentary      good   \n",
       "\n",
       "            CALC                 MTRANS      label  \n",
       "0     Frequently  Public_Transportation  not-obese  \n",
       "1      Sometimes  Public_Transportation  not-obese  \n",
       "2      Sometimes  Public_Transportation      obese  \n",
       "3      Sometimes  Public_Transportation  not-obese  \n",
       "4      Sometimes             Automobile  not-obese  \n",
       "...          ...                    ...        ...  \n",
       "2106  Frequently             Automobile      obese  \n",
       "2107          no             Automobile      obese  \n",
       "2108   Sometimes  Public_Transportation  not-obese  \n",
       "2109          no  Public_Transportation  not-obese  \n",
       "2110   Sometimes  Public_Transportation      obese  \n",
       "\n",
       "[2111 rows x 15 columns]"
      ]
     },
     "execution_count": 10,
     "metadata": {},
     "output_type": "execute_result"
    }
   ],
   "source": [
    "df2 = pd.read_csv('obesity.csv')\n",
    "df2"
   ]
  },
  {
   "cell_type": "code",
   "execution_count": 11,
   "metadata": {},
   "outputs": [],
   "source": [
    "# Write additional code here, if necessary (you may insert additional code cells)\n",
    "for col in df2.columns:\n",
    "    unique_values = df2[col].unique()\n",
    "    df2[col] = df2[col].map(dict(zip(unique_values, range(len(unique_values)))))"
   ]
  },
  {
   "cell_type": "code",
   "execution_count": 12,
   "metadata": {},
   "outputs": [
    {
     "data": {
      "text/plain": [
       "Gender                            0.250083\n",
       "family_history_with_overweight    0.149187\n",
       "FAVC                              0.102638\n",
       "FCVC                              0.342113\n",
       "CAEC                              0.376350\n",
       "SMOKE                             0.020418\n",
       "CH2O                              0.668226\n",
       "SCC                               0.043429\n",
       "TUE                               0.448207\n",
       "CALC                              0.264716\n",
       "MTRANS                            0.345777\n",
       "label                             0.248553\n",
       "dtype: float64"
      ]
     },
     "execution_count": 12,
     "metadata": {},
     "output_type": "execute_result"
    }
   ],
   "source": [
    "variances = df2.var()\n",
    "toDelete = variances[variances < 0.8]\n",
    "toDelete"
   ]
  },
  {
   "cell_type": "markdown",
   "metadata": {},
   "source": [
    "Provide your text answer to **Question 3.a** of 100-150 words in this cell.\n",
    "\n",
    "#### Delete low variance features\n",
    "A filter method for implementing feature selection from a dataset is the deletion of these with low variance. Thus, a variance threshold is determined so a function to identify features with less than this threshold of unique values. \n",
    "\n",
    "Take into consideration that the calculation of variance demands numeric data and therefore dataframe has been transformed into this data type.\n"
   ]
  },
  {
   "cell_type": "markdown",
   "metadata": {},
   "source": [
    "Provide your text answer to **Question 3.b** of 100-150 words in this cell.\n",
    "\n",
    "#### Assumptions\n",
    "\n",
    "The fundamental Naïve Bayes assumption is that each feature makes an:\n",
    "1. independent: There is the assumption of no pair of features is dependent. For example, the job being Unemployed has nothing to do with the status e.g. married. Hence, the features are assumed to be Independent.\n",
    "2. equal contribution to the outcome. Each feature is given the same influence(or importance). This results that none of the attributes are irrelevant and assumed to be contributing Equally to the outcome"
   ]
  },
  {
   "cell_type": "markdown",
   "metadata": {},
   "source": [
    "## Question 4: Feature Selection and Ethics [4 marks]"
   ]
  },
  {
   "cell_type": "code",
   "execution_count": 110,
   "metadata": {},
   "outputs": [],
   "source": [
    "# Write additional code here, if necessary (you may insert additional code cells)\n",
    "df_students = pd.read_csv('student.csv')\n",
    "df_students.columns\n",
    "df_students_reduced = df_students.drop(['sex','address','failures'],axis=1).copy()"
   ]
  },
  {
   "cell_type": "markdown",
   "metadata": {},
   "source": [
    "Provide your text answer to **Question 4.a** of 100-150 words in this cell.\n",
    "\n",
    "The usage of ML in education and specifically on college application may raize a series of ethical problems such as:\n",
    "\n",
    "1. Discrimination. Students that are predicted to have low grade may finally have a good perfomance. Thus, they are excluded from colleges, despite the fact that they could have developed skills during the educational process\n",
    "2. Bias. Misguided evidence adapted from a not good trained algorithm may lead to wrong decisions.\n"
   ]
  },
  {
   "cell_type": "markdown",
   "metadata": {},
   "source": [
    "Provide your text answer to **Question 4.b** of 100-150 words in this cell.\n",
    "\n",
    "Proposed Columns to Delete:\n",
    "1. Sex. Gender has nothing to do with developing skills and being well-educated\n",
    "2. Address. This can lead to discrimination as students from Poor neighborhouds have the potential to be excellent students.\n",
    "3. Failures. Failure in the past can lead to success in the future. Thus, it has to deleted, otherwise can lead to bias. \n"
   ]
  },
  {
   "cell_type": "markdown",
   "metadata": {},
   "source": [
    "Provide your text answer to **Question 4.c** of 100-150 words in this cell.\n",
    "\n",
    "\n",
    "\n"
   ]
  },
  {
   "cell_type": "markdown",
   "metadata": {},
   "source": []
  },
  {
   "cell_type": "code",
   "execution_count": null,
   "metadata": {},
   "outputs": [],
   "source": []
  },
  {
   "cell_type": "code",
   "execution_count": null,
   "metadata": {},
   "outputs": [],
   "source": []
  }
 ],
 "metadata": {
  "kernelspec": {
   "display_name": "Python 3 (ipykernel)",
   "language": "python",
   "name": "python3"
  },
  "language_info": {
   "codemirror_mode": {
    "name": "ipython",
    "version": 3
   },
   "file_extension": ".py",
   "mimetype": "text/x-python",
   "name": "python",
   "nbconvert_exporter": "python",
   "pygments_lexer": "ipython3",
   "version": "3.9.12"
  }
 },
 "nbformat": 4,
 "nbformat_minor": 2
}
